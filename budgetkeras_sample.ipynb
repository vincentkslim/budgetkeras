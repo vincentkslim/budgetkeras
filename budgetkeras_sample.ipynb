{
 "cells": [
  {
   "cell_type": "code",
   "execution_count": 1,
   "metadata": {},
   "outputs": [],
   "source": [
    "from budgetkeras import *\n",
    "\n",
    "import pandas as pd\n",
    "import seaborn as sns\n",
    "\n",
    "titanic_X = pd.read_csv('titanic_X.csv', index_col='PassengerId')\n",
    "titanic_Y = pd.read_csv('titanic_Y.csv', index_col='PassengerId')\n",
    "\n",
    "titanic_train_Y = titanic_Y.to_numpy().T\n",
    "titanic_train_X = titanic_X.to_numpy() \n",
    "\n",
    "X = np.array([[0,0],\n",
    "              [0,1],\n",
    "              [1,0],\n",
    "              [1,1]])\n",
    "Y = np.array([[0,1,1,0]])"
   ]
  },
  {
   "cell_type": "code",
   "execution_count": 77,
   "metadata": {},
   "outputs": [],
   "source": [
    "add, compile_model, summary = sequential()\n",
    "add(dense(2, input_shape=(2,), activation=relu, initializer=kaiming))\n",
    "# add(dense(2, activation=relu, initializer=kaiming))\n",
    "add(dense(1, activation=sigmoid, initializer=xavier))\n",
    "\n",
    "fit = compile_model(gradient_descent_with_momentum(learning_rate=0.1), binary_crossentropy) \n",
    "\n",
    "history, predict = fit(X, Y, epochs=500)"
   ]
  },
  {
   "cell_type": "code",
   "execution_count": 78,
   "metadata": {},
   "outputs": [
    {
     "name": "stdout",
     "output_type": "stream",
     "text": [
      "+--------------------+------------------------------+\n",
      "|    Hidden Units    |     Activation Function      |\n",
      "+--------------------+------------------------------+\n",
      "|         2          |         relu_forward         |\n",
      "|         1          |       sigmoid_forward        |\n",
      "+--------------------+------------------------------+\n"
     ]
    }
   ],
   "source": [
    "summary()"
   ]
  },
  {
   "cell_type": "code",
   "execution_count": 79,
   "metadata": {},
   "outputs": [
    {
     "data": {
      "text/plain": [
       "<AxesSubplot:xlabel='epochs', ylabel='loss'>"
      ]
     },
     "execution_count": 79,
     "metadata": {},
     "output_type": "execute_result"
    },
    {
     "data": {
      "image/png": "[encoded data removed]",
      "text/plain": [
       "<Figure size 432x288 with 1 Axes>"
      ]
     },
     "metadata": {
      "needs_background": "light"
     },
     "output_type": "display_data"
    }
   ],
   "source": [
    "history_data = pd.DataFrame({'loss': history, 'epochs' :list(range(1, len(history)+1))})\n",
    "\n",
    "sns.lineplot(data=history_data, x='epochs', y='loss')"
   ]
  },
  {
   "cell_type": "code",
   "execution_count": 80,
   "metadata": {},
   "outputs": [
    {
     "data": {
      "text/plain": [
       "array([[0.494, 0.494, 0.961, 0.049]])"
      ]
     },
     "execution_count": 80,
     "metadata": {},
     "output_type": "execute_result"
    }
   ],
   "source": [
    "np.around(predict(X), 3)"
   ]
  },
  {
   "cell_type": "code",
   "execution_count": 13,
   "metadata": {},
   "outputs": [],
   "source": [
    "add, compile_model, summary = sequential()\n",
    "add(dense(128, input_shape=(16,), activation=tanh, initializer=xavier))\n",
    "add(dense(128, activation=tanh, initializer=xavier))\n",
    "add(dense(1, activation=sigmoid, initializer=xavier))\n",
    "\n",
    "fit = compile_model(RMSprop(learning_rate=0.01), binary_crossentropy) \n",
    "\n",
    "history, predict = fit(titanic_train_X, titanic_train_Y, epochs=1000)"
   ]
  },
  {
   "cell_type": "code",
   "execution_count": 14,
   "metadata": {},
   "outputs": [
    {
     "data": {
      "text/plain": [
       "<AxesSubplot:xlabel='epochs', ylabel='loss'>"
      ]
     },
     "execution_count": 14,
     "metadata": {},
     "output_type": "execute_result"
    },
    {
     "data": {
      "image/png": "[encoded data removed]",
      "text/plain": [
       "<Figure size 432x288 with 1 Axes>"
      ]
     },
     "metadata": {
      "needs_background": "light"
     },
     "output_type": "display_data"
    }
   ],
   "source": [
    "history_data = pd.DataFrame({'loss': history, 'epochs' :list(range(1, len(history)+1))})\n",
    "\n",
    "sns.lineplot(data=history_data, x='epochs', y='loss')"
   ]
  },
  {
   "cell_type": "code",
   "execution_count": 12,
   "metadata": {},
   "outputs": [
    {
     "name": "stdout",
     "output_type": "stream",
     "text": [
      "+--------------------+------------------------------+\n",
      "|    Hidden Units    |     Activation Function      |\n",
      "+--------------------+------------------------------+\n",
      "|        128         |         tanh_forward         |\n",
      "|        128         |         tanh_forward         |\n",
      "|         1          |       sigmoid_forward        |\n",
      "+--------------------+------------------------------+\n"
     ]
    }
   ],
   "source": [
    "summary()"
   ]
  },
  {
   "cell_type": "code",
   "execution_count": 21,
   "metadata": {},
   "outputs": [
    {
     "data": {
      "text/plain": [
       "array([[0.38 , 1.   , 0.837, 1.   , 0.009, 0.106, 0.   , 0.003, 1.   ,\n",
       "        1.   , 0.998, 1.   , 0.066, 0.   , 0.074, 0.861, 0.   , 0.318,\n",
       "        0.218, 1.   , 0.001, 0.289, 1.   , 0.969, 0.   , 0.703, 0.11 ,\n",
       "        0.001, 0.845, 0.085, 0.013, 1.   , 0.843, 0.202, 0.056, 0.502,\n",
       "        0.11 , 0.051, 0.   , 0.898, 0.002, 0.021, 0.114, 1.   , 0.645,\n",
       "        0.085, 0.   , 0.843, 0.003, 0.007, 0.   , 0.052, 1.   , 1.   ,\n",
       "        0.   , 0.702, 0.994, 0.357, 1.   , 0.   , 0.685, 1.   , 0.018,\n",
       "        0.   , 0.284, 1.   , 0.998, 0.116, 0.995, 0.001, 0.207, 0.   ,\n",
       "        0.   , 0.005, 0.969, 0.047, 0.085, 0.085, 1.   , 0.983, 0.026,\n",
       "        0.093, 0.843, 0.006, 0.999, 0.999, 0.001, 0.085, 1.   , 0.076,\n",
       "        0.096, 0.065, 0.021, 0.   , 0.   , 0.085, 0.001, 1.   , 1.   ,\n",
       "        0.046, 0.449, 0.085, 0.006, 0.156, 0.   , 0.293, 0.31 , 0.085,\n",
       "        0.021, 0.999, 0.   , 0.03 , 0.039, 0.077, 0.005, 0.051, 0.   ,\n",
       "        0.018, 0.   , 0.06 , 0.   , 0.085, 0.   , 0.995, 0.   , 1.   ,\n",
       "        0.126, 0.104, 0.997, 0.13 , 0.   , 0.061, 0.003, 1.   , 0.001,\n",
       "        0.009, 1.   , 0.013, 0.084, 0.017, 0.63 , 0.725, 0.954, 0.   ,\n",
       "        0.012, 0.001, 0.276, 0.001, 0.   , 0.   , 0.   , 1.   , 0.   ,\n",
       "        0.   , 0.085, 0.   , 0.999, 0.087, 0.085, 0.   , 0.   , 1.   ,\n",
       "        0.035, 0.113, 0.   , 1.   , 0.997, 0.001, 0.359, 0.501, 0.   ,\n",
       "        0.001, 0.999, 0.051, 0.009, 0.02 , 0.   , 0.005, 0.354, 0.007,\n",
       "        0.   , 0.331, 0.003, 1.   , 0.996, 0.001, 1.   , 0.949, 0.   ,\n",
       "        0.007, 1.   , 0.008, 0.945, 1.   , 0.997, 1.   , 0.126, 0.   ,\n",
       "        0.843, 0.645, 0.275, 0.   , 0.016, 0.004, 0.136, 0.543, 0.   ,\n",
       "        0.994, 0.999, 0.946, 0.107, 0.995, 0.045, 0.354, 0.003, 1.   ,\n",
       "        0.928, 0.   , 1.   , 0.175, 0.129, 0.   , 0.   , 0.085, 0.802,\n",
       "        0.021, 0.134, 0.055, 0.003, 0.   , 1.   , 0.096, 0.011, 0.543,\n",
       "        0.002, 0.008, 0.   , 1.   , 0.134, 0.31 , 0.   , 0.999, 0.006,\n",
       "        0.045, 0.076, 0.002, 0.158, 1.   , 0.992, 0.   , 0.085, 0.002,\n",
       "        0.002, 0.   , 0.   , 0.986, 1.   , 1.   , 1.   , 1.   , 0.126,\n",
       "        0.517, 0.001, 0.   , 0.843, 0.037, 0.   , 0.582, 0.998, 1.   ,\n",
       "        0.475, 0.952, 1.   , 0.017, 0.843, 0.999, 0.002, 0.   , 0.001,\n",
       "        0.994, 0.   , 0.293, 0.073, 0.115, 0.365, 0.   , 0.088, 0.04 ,\n",
       "        0.87 , 0.835, 0.998, 1.   , 0.001, 0.157, 0.08 , 0.284, 0.373,\n",
       "        0.002, 0.47 , 1.   , 0.843, 0.993, 0.046, 1.   , 0.085, 0.996,\n",
       "        1.   , 1.   , 0.   , 1.   , 1.   , 1.   , 0.006, 0.293, 0.   ,\n",
       "        0.836, 0.999, 0.   , 1.   , 0.993, 0.045, 0.267, 1.   , 1.   ,\n",
       "        0.   , 1.   , 0.   , 1.   , 0.986, 1.   , 1.   , 0.261, 0.001,\n",
       "        0.   , 1.   , 0.085, 0.077, 1.   , 0.19 , 0.001, 1.   , 1.   ,\n",
       "        0.   , 0.001, 0.095, 0.645, 0.545, 0.872, 1.   , 0.137, 0.009,\n",
       "        0.66 , 0.001, 0.014, 0.11 , 0.275, 0.997, 0.314, 0.845, 0.845,\n",
       "        0.   , 0.   , 0.002, 0.008, 0.   , 0.086, 1.   , 1.   , 0.843,\n",
       "        1.   , 0.994, 0.026, 0.115, 0.001, 0.002, 1.   , 0.778, 0.001,\n",
       "        0.257, 0.114, 1.   , 1.   , 0.16 , 1.   , 0.085, 0.002, 0.002,\n",
       "        0.998, 0.127, 1.   , 0.993, 0.052, 0.004, 1.   , 1.   , 0.041,\n",
       "        0.008, 0.   , 0.005, 0.999, 0.111, 0.033, 0.006, 0.001, 0.315,\n",
       "        0.018, 0.   , 1.   , 0.052, 0.   , 0.085, 0.149, 1.   , 0.   ,\n",
       "        0.148, 0.01 , 1.   , 0.997, 0.354, 0.021, 0.114, 0.   , 0.096,\n",
       "        0.001, 0.   , 0.085, 0.997, 1.   , 0.126, 0.162, 0.919, 0.872,\n",
       "        0.986, 0.155, 0.05 , 0.998, 0.   , 0.996, 0.   , 0.226, 1.   ,\n",
       "        0.066, 0.582, 1.   , 0.085, 1.   , 1.   , 0.988, 0.999, 0.994,\n",
       "        0.   , 0.   , 0.222, 0.994, 0.085, 0.349, 0.002, 1.   , 0.992,\n",
       "        0.126, 0.272, 0.023, 0.001, 0.016, 0.085, 0.015, 0.   , 0.004,\n",
       "        0.127, 0.999, 0.085, 0.03 , 1.   , 1.   , 0.241, 0.002, 0.018,\n",
       "        0.008, 0.043, 0.818, 0.   , 0.   , 0.   , 0.991, 0.948, 0.   ,\n",
       "        1.   , 0.002, 0.087, 1.   , 0.   , 0.053, 0.033, 0.001, 0.051,\n",
       "        0.003, 1.   , 0.003, 0.003, 0.082, 0.113, 0.503, 0.84 , 0.002,\n",
       "        0.993, 0.005, 0.999, 0.403, 0.   , 0.842, 0.238, 0.085, 0.993,\n",
       "        1.   , 0.091, 0.001, 1.   , 0.002, 1.   , 0.16 , 1.   , 0.04 ,\n",
       "        0.11 , 0.999, 0.11 , 0.   , 0.992, 0.004, 0.111, 0.004, 1.   ,\n",
       "        0.11 , 0.001, 0.994, 0.075, 1.   , 0.001, 1.   , 0.007, 1.   ,\n",
       "        0.999, 0.007, 0.002, 0.981, 0.001, 0.001, 1.   , 0.581, 0.   ,\n",
       "        1.   , 0.998, 0.   , 0.124, 0.684, 0.722, 0.002, 1.   , 0.   ,\n",
       "        1.   , 0.956, 0.126, 0.136, 0.001, 0.085, 0.019, 0.   , 0.115,\n",
       "        0.002, 0.11 , 0.159, 0.598, 1.   , 0.993, 0.843, 0.129, 0.003,\n",
       "        1.   , 1.   , 0.   , 0.16 , 1.   , 0.998, 0.   , 0.189, 0.116,\n",
       "        0.994, 0.004, 0.996, 0.039, 0.085, 0.008, 1.   , 0.074, 0.   ,\n",
       "        0.004, 0.   , 0.999, 0.001, 0.11 , 1.   , 0.998, 0.085, 0.013,\n",
       "        0.15 , 0.956, 0.   , 0.086, 0.978, 1.   , 1.   , 0.079, 0.085,\n",
       "        0.999, 0.126, 0.009, 1.   , 0.   , 0.134, 0.997, 0.   , 0.005,\n",
       "        0.519, 0.997, 0.051, 0.   , 0.001, 0.001, 0.992, 0.034, 0.127,\n",
       "        0.986, 0.   , 0.987, 0.001, 0.001, 1.   , 0.16 , 0.   , 0.   ,\n",
       "        0.   , 0.065, 1.   , 0.001, 0.452, 0.999, 0.998, 0.115, 0.987,\n",
       "        0.085, 0.512, 0.085, 1.   , 0.049, 0.844, 0.583, 0.   , 0.085,\n",
       "        0.002, 0.008, 0.   , 0.999, 0.001, 0.273, 0.007, 0.902, 0.   ,\n",
       "        0.001, 0.085, 0.139, 1.   , 1.   , 0.066, 0.013, 0.41 , 0.   ,\n",
       "        0.141, 0.067, 0.917, 0.001, 1.   , 0.851, 0.978, 0.068, 0.   ,\n",
       "        0.   , 0.003, 0.   , 0.069, 0.14 , 0.999, 0.854, 1.   , 0.452,\n",
       "        0.109, 0.009, 0.001, 0.15 , 0.842, 0.   , 0.137, 1.   , 0.992,\n",
       "        0.   , 0.   , 0.29 , 0.   , 0.999, 0.997, 1.   , 1.   , 1.   ,\n",
       "        0.403, 0.964, 0.093, 0.002, 0.113, 1.   , 0.998, 0.002, 0.136,\n",
       "        1.   , 0.023, 0.289, 0.003, 0.977, 0.068, 1.   , 0.842, 0.002,\n",
       "        0.   , 1.   , 0.014, 0.   , 0.008, 0.008, 0.   , 0.001, 1.   ,\n",
       "        0.085, 0.085, 0.465, 0.136, 1.   , 0.005, 0.106, 0.001, 0.   ,\n",
       "        0.996, 0.022, 0.029, 1.   , 1.   , 0.17 , 0.015, 0.997, 1.   ,\n",
       "        0.293, 0.012, 0.023, 1.   , 0.007, 0.137, 0.896, 0.997, 0.138,\n",
       "        1.   , 0.03 , 0.763, 0.001, 0.167, 0.054, 0.005, 0.102, 0.11 ,\n",
       "        1.   , 0.141, 0.126, 0.973, 0.126, 1.   , 1.   , 1.   , 0.667,\n",
       "        0.   , 0.057, 0.053, 0.685, 0.002, 1.   , 0.001, 0.126, 0.002,\n",
       "        0.   , 0.425, 0.043, 0.012, 1.   , 0.95 , 0.076, 0.   , 0.289,\n",
       "        0.993, 0.999, 1.   , 0.336, 0.105, 0.   , 0.708, 0.012, 1.   ,\n",
       "        0.034, 0.002, 0.161, 0.465, 0.093, 0.001, 0.445, 0.005, 0.133,\n",
       "        0.003, 1.   , 0.183, 0.001, 1.   , 0.   , 0.147, 0.452, 1.   ,\n",
       "        0.126, 1.   , 1.   , 1.   , 0.11 , 0.015, 0.131, 1.   , 0.047,\n",
       "        0.085, 0.969, 0.417, 0.065, 0.005, 1.   , 0.   , 0.113, 0.137,\n",
       "        0.   , 0.   , 0.   , 1.   , 0.307, 0.   , 0.019, 1.   , 0.138,\n",
       "        1.   , 1.   , 0.98 , 1.   , 0.11 , 0.   , 0.006, 1.   , 0.   ,\n",
       "        0.002, 1.   , 0.999, 0.001, 0.085, 0.999, 0.034, 1.   , 0.   ,\n",
       "        0.109, 1.   , 0.999, 0.062, 0.115, 0.085, 1.   , 1.   , 0.139,\n",
       "        0.141, 0.   , 0.057, 0.   , 0.001, 1.   , 0.   , 0.988, 0.004]])"
      ]
     },
     "execution_count": 21,
     "metadata": {},
     "output_type": "execute_result"
    }
   ],
   "source": [
    "np.around(predict(titanic_train_X), 3)"
   ]
  },
  {
   "cell_type": "code",
   "execution_count": null,
   "metadata": {},
   "outputs": [],
   "source": []
  }
 ],
 "metadata": {
  "kernelspec": {
   "display_name": "Python 3",
   "language": "python",
   "name": "python3"
  },
  "language_info": {
   "codemirror_mode": {
    "name": "ipython",
    "version": 3
   },
   "file_extension": ".py",
   "mimetype": "text/x-python",
   "name": "python",
   "nbconvert_exporter": "python",
   "pygments_lexer": "ipython3",
   "version": "3.8.5"
  }
 },
 "nbformat": 4,
 "nbformat_minor": 4
}
